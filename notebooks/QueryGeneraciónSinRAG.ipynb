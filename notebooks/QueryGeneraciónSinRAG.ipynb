{
  "cells": [
    {
      "cell_type": "code",
      "execution_count": 4,
      "metadata": {
        "colab": {
          "base_uri": "https://localhost:8080/"
        },
        "id": "L6hMF_DOVg-o",
        "outputId": "edb3140a-8ce2-43e7-cae2-d6671eb50cd0"
      },
      "outputs": [
        {
          "name": "stdout",
          "output_type": "stream",
          "text": [
            "Requirement already satisfied: openai in /usr/local/lib/python3.10/dist-packages (0.28.1)\n",
            "Requirement already satisfied: requests>=2.20 in /usr/local/lib/python3.10/dist-packages (from openai) (2.31.0)\n",
            "Requirement already satisfied: tqdm in /usr/local/lib/python3.10/dist-packages (from openai) (4.66.1)\n",
            "Requirement already satisfied: aiohttp in /usr/local/lib/python3.10/dist-packages (from openai) (3.8.6)\n",
            "Requirement already satisfied: charset-normalizer<4,>=2 in /usr/local/lib/python3.10/dist-packages (from requests>=2.20->openai) (3.3.1)\n",
            "Requirement already satisfied: idna<4,>=2.5 in /usr/local/lib/python3.10/dist-packages (from requests>=2.20->openai) (3.4)\n",
            "Requirement already satisfied: urllib3<3,>=1.21.1 in /usr/local/lib/python3.10/dist-packages (from requests>=2.20->openai) (2.0.7)\n",
            "Requirement already satisfied: certifi>=2017.4.17 in /usr/local/lib/python3.10/dist-packages (from requests>=2.20->openai) (2023.7.22)\n",
            "Requirement already satisfied: attrs>=17.3.0 in /usr/local/lib/python3.10/dist-packages (from aiohttp->openai) (23.1.0)\n",
            "Requirement already satisfied: multidict<7.0,>=4.5 in /usr/local/lib/python3.10/dist-packages (from aiohttp->openai) (6.0.4)\n",
            "Requirement already satisfied: async-timeout<5.0,>=4.0.0a3 in /usr/local/lib/python3.10/dist-packages (from aiohttp->openai) (4.0.3)\n",
            "Requirement already satisfied: yarl<2.0,>=1.0 in /usr/local/lib/python3.10/dist-packages (from aiohttp->openai) (1.9.2)\n",
            "Requirement already satisfied: frozenlist>=1.1.1 in /usr/local/lib/python3.10/dist-packages (from aiohttp->openai) (1.4.0)\n",
            "Requirement already satisfied: aiosignal>=1.1.2 in /usr/local/lib/python3.10/dist-packages (from aiohttp->openai) (1.3.1)\n",
            "Requirement already satisfied: tiktoken in /usr/local/lib/python3.10/dist-packages (0.5.1)\n",
            "Requirement already satisfied: regex>=2022.1.18 in /usr/local/lib/python3.10/dist-packages (from tiktoken) (2023.6.3)\n",
            "Requirement already satisfied: requests>=2.26.0 in /usr/local/lib/python3.10/dist-packages (from tiktoken) (2.31.0)\n",
            "Requirement already satisfied: charset-normalizer<4,>=2 in /usr/local/lib/python3.10/dist-packages (from requests>=2.26.0->tiktoken) (3.3.1)\n",
            "Requirement already satisfied: idna<4,>=2.5 in /usr/local/lib/python3.10/dist-packages (from requests>=2.26.0->tiktoken) (3.4)\n",
            "Requirement already satisfied: urllib3<3,>=1.21.1 in /usr/local/lib/python3.10/dist-packages (from requests>=2.26.0->tiktoken) (2.0.7)\n",
            "Requirement already satisfied: certifi>=2017.4.17 in /usr/local/lib/python3.10/dist-packages (from requests>=2.26.0->tiktoken) (2023.7.22)\n",
            "Requirement already satisfied: transformers in /usr/local/lib/python3.10/dist-packages (4.35.0)\n",
            "Requirement already satisfied: filelock in /usr/local/lib/python3.10/dist-packages (from transformers) (3.12.4)\n",
            "Requirement already satisfied: huggingface-hub<1.0,>=0.16.4 in /usr/local/lib/python3.10/dist-packages (from transformers) (0.17.3)\n",
            "Requirement already satisfied: numpy>=1.17 in /usr/local/lib/python3.10/dist-packages (from transformers) (1.23.5)\n",
            "Requirement already satisfied: packaging>=20.0 in /usr/local/lib/python3.10/dist-packages (from transformers) (23.2)\n",
            "Requirement already satisfied: pyyaml>=5.1 in /usr/local/lib/python3.10/dist-packages (from transformers) (6.0.1)\n",
            "Requirement already satisfied: regex!=2019.12.17 in /usr/local/lib/python3.10/dist-packages (from transformers) (2023.6.3)\n",
            "Requirement already satisfied: requests in /usr/local/lib/python3.10/dist-packages (from transformers) (2.31.0)\n",
            "Requirement already satisfied: tokenizers<0.15,>=0.14 in /usr/local/lib/python3.10/dist-packages (from transformers) (0.14.1)\n",
            "Requirement already satisfied: safetensors>=0.3.1 in /usr/local/lib/python3.10/dist-packages (from transformers) (0.4.0)\n",
            "Requirement already satisfied: tqdm>=4.27 in /usr/local/lib/python3.10/dist-packages (from transformers) (4.66.1)\n",
            "Requirement already satisfied: fsspec in /usr/local/lib/python3.10/dist-packages (from huggingface-hub<1.0,>=0.16.4->transformers) (2023.6.0)\n",
            "Requirement already satisfied: typing-extensions>=3.7.4.3 in /usr/local/lib/python3.10/dist-packages (from huggingface-hub<1.0,>=0.16.4->transformers) (4.5.0)\n",
            "Requirement already satisfied: charset-normalizer<4,>=2 in /usr/local/lib/python3.10/dist-packages (from requests->transformers) (3.3.1)\n",
            "Requirement already satisfied: idna<4,>=2.5 in /usr/local/lib/python3.10/dist-packages (from requests->transformers) (3.4)\n",
            "Requirement already satisfied: urllib3<3,>=1.21.1 in /usr/local/lib/python3.10/dist-packages (from requests->transformers) (2.0.7)\n",
            "Requirement already satisfied: certifi>=2017.4.17 in /usr/local/lib/python3.10/dist-packages (from requests->transformers) (2023.7.22)\n",
            "Requirement already satisfied: torch in /usr/local/lib/python3.10/dist-packages (2.1.0+cu118)\n",
            "Requirement already satisfied: filelock in /usr/local/lib/python3.10/dist-packages (from torch) (3.12.4)\n",
            "Requirement already satisfied: typing-extensions in /usr/local/lib/python3.10/dist-packages (from torch) (4.5.0)\n",
            "Requirement already satisfied: sympy in /usr/local/lib/python3.10/dist-packages (from torch) (1.12)\n",
            "Requirement already satisfied: networkx in /usr/local/lib/python3.10/dist-packages (from torch) (3.2)\n",
            "Requirement already satisfied: jinja2 in /usr/local/lib/python3.10/dist-packages (from torch) (3.1.2)\n",
            "Requirement already satisfied: fsspec in /usr/local/lib/python3.10/dist-packages (from torch) (2023.6.0)\n",
            "Requirement already satisfied: triton==2.1.0 in /usr/local/lib/python3.10/dist-packages (from torch) (2.1.0)\n",
            "Requirement already satisfied: MarkupSafe>=2.0 in /usr/local/lib/python3.10/dist-packages (from jinja2->torch) (2.1.3)\n",
            "Requirement already satisfied: mpmath>=0.19 in /usr/local/lib/python3.10/dist-packages (from sympy->torch) (1.3.0)\n"
          ]
        }
      ],
      "source": [
        "!pip install openai\n",
        "!pip install tiktoken\n",
        "!pip install transformers\n",
        "!pip install torch"
      ]
    },
    {
      "cell_type": "code",
      "execution_count": 26,
      "metadata": {
        "id": "XMw4lmWPW7nQ"
      },
      "outputs": [],
      "source": [
        "USA_GPT4 = False\n",
        "GPT_MODELO = \"gpt-4\" if USA_GPT4 else \"gpt-3.5-turbo\""
      ]
    },
    {
      "cell_type": "code",
      "execution_count": 34,
      "metadata": {
        "id": "fDCogy3cjP8w"
      },
      "outputs": [],
      "source": [
        "import openai\n",
        "openai.api_key = TU_API_KEY"
      ]
    },
    {
      "cell_type": "code",
      "execution_count": 18,
      "metadata": {
        "id": "h5mbC7tpU_12"
      },
      "outputs": [],
      "source": [
        "q_ejemplos = {\"Consejo Constitucional de Chile\" :'''\n",
        "<<<Proceso actual>>>\n",
        "(kastitucion OR chanchullo OR mamarrachofacho OR (consej* NEAR/0f constitu*) OR (enmiend* NEAR/0f (aprobad* OR rechaz* OR propuest*)) OR ((retir* OR aprob* OR aprueb* OR rechaz*) NEAR/0f (enmiend* OR norma)) OR \"una que nos hunda\" OR \"una que nos una\" OR (nueva NEAR/0f constitucion) OR (comision NEAR/0f experta) OR \"vamos a decir que no\" OR (Constitucion* NEAR/2f (coludido* OR ricos OR privilegiad*)) OR mamarracho OR laweatambienesmala OR quedopeor OR laweaesmala OR (quedo NEAR/0f peor))\n",
        "<<<Proceso anterior>>>\n",
        " OR ((convencion NEAR/0f constitu*) OR \"4s\" OR exconstituyente OR mamarracho)\n",
        " <<<Hashtags>>>\n",
        "OR (#tequierochile OR #consejoconstitucional OR #procesoconstitucional OR #vamosadecirqueno OR #chilerechazadosveces OR #rechazolakastitucion OR #encontra OR #afavor OR #encontraendiciembre OR #chilevotaencontra OR #unaquenosuna OR #unaquenoshunda OR #circoconstituyente  OR #rechazo OR #feliz4deseptiembre OR #apruebo OR #4septiembre OR #aniversario4s OR #soloquedarepublicanos OR #nuevaconstitucion OR #laconstituciondelasfakenews OR #4deseptiembre OR #rechazodesalida OR #rechazoendiciembre OR #enmienda* OR #endiciembrevotaencontra OR #afavorendiciembre OR #paravivirseguros OR #afavordechile OR #encontraendiciembre OR #chilevotaencontra OR #encontraatodoevento OR #esmejor)\n",
        "\n",
        "OR\n",
        "\n",
        "author:(joseantoniokast OR\n",
        "rojoedwards\tOR\n",
        "CarmenAravenaA1\tOR\n",
        "BarchiesiDip\tOR\n",
        "sanchezdiputado\tOR\n",
        "agustinromerole\tOR\n",
        "JoseMezaPereira\tOR\n",
        "cristian_arayal\tOR\n",
        "JIrarrazavalR\tOR\n",
        "BenjaminMorenob\tOR\n",
        "DipCristobal\tOR\n",
        "SchubertRubio\tOR\n",
        "mauricio_ojedar\tOR\n",
        "hjurgensen\tOR\n",
        "arturo_squella\tOR\n",
        "ruth_uas\tOR\n",
        "NinoskaPayauna\tOR\n",
        "spg319\tOR\n",
        "CarmenM05875475\tOR\n",
        "carlossolarb\tOR\n",
        "PaulSfeir\tOR\n",
        "gloriaparedesAB\tOR\n",
        "angeleslpo\tOR\n",
        "abarchiesi\tOR\n",
        "profesor_silva\tOR\n",
        "JorgeOssandonRM\tOR\n",
        "safigueroa\tOR\n",
        "idilia_maria\tOR\n",
        "ricardortegapr\tOR\n",
        "MiguelRojasCL\tOR\n",
        "ceciliamedinam4\tOR\n",
        "SpoererPatricia\tOR\n",
        "AldoSanhueza\tOR\n",
        "marielaandreafm\tOR\n",
        "HectorUrbanA\tOR\n",
        "JorgeDelaMaza22\tOR\n",
        "beaheviaw)\n",
        "\n",
        "OR\n",
        "\n",
        "<<<Migrantes>>>\n",
        "(enmiend* NEAR/3f ((expuls* NEAR/2f (inmediata OR migrant*)) OR ((norma* OR enmienda*) NEAR/1f ((anti NEAR/0f migrante*) OR antimigrante* OR \"anti-migrante\" OR \"anti-migrantes\")))) OR\n",
        "\n",
        "\n",
        "<<<Salud>>>\n",
        "(enmiend* NEAR/3f\n",
        "((libertad NEAR/1f elección) OR (eleccion NEAR/1f salud) OR isapre* OR ((plan NEAR/0f unico) NEAR/0f universal) OR (propuesta NEAR/1f salud))) OR\n",
        "\n",
        "<<<Pensiones>>>\n",
        "(enmiend* NEAR/3f\n",
        "(pension* OR afp OR (papi* NEAR/0f corazon) OR (((con NEAR/1f mi) NEAR/0f plata) NEAR/0f no))) OR\n",
        "\n",
        "<<<Seguridad>>>\n",
        "(enmiend* NEAR/3f\n",
        "((fuerza* NEAR/0f (armada* OR especial*)) OR ffaa OR \"ff.aa\" OR  (policia NEAR/0f fronteriza) OR (prote* NEAR/2f fronter*) OR carabiner* OR (justicia NEAR/0f militar) OR ((fuerza* NEAR/0f especial*) NEAR/0f fronter*))) OR\n",
        "\n",
        "<<<Personas de interés>>>\n",
        "((Luis NEAR/0f Silva) OR (profe NEAR/0f silva) OR @profesor_silva OR\n",
        "(Yerko NEAR/0f Ljubetic) OR @YerkoLjubetic OR\n",
        "(Beatriz NEAR/0f Hevia) OR (Bea NEAR/0f hevia) OR @beaheviaw OR\n",
        "(Alexis NEAR/0f Cortés) OR @AlexisCortesMs OR\n",
        "(María NEAR/0f Pardo) OR @mariapardover OR\n",
        "(María NEAR/0f Gatica) OR (la NEAR/0f gatica) OR\n",
        "(Mariela NEAR/0f Fincheira) OR @Marielaandreafm)\n",
        "'''}"
      ]
    },
    {
      "cell_type": "code",
      "execution_count": 27,
      "metadata": {
        "colab": {
          "base_uri": "https://localhost:8080/"
        },
        "id": "sT2I3JhVWDRh",
        "outputId": "5d52b78c-576a-42c1-cd57-fc3a354f807a"
      },
      "outputs": [
        {
          "name": "stdout",
          "output_type": "stream",
          "text": [
            "1306\n"
          ]
        }
      ],
      "source": [
        "# Conta el número de tokens de 'in-context' query ejemplos para GPT\n",
        "import tiktoken\n",
        "encoding = tiktoken.encoding_for_model(GPT_MODELO)\n",
        "# Pienso que GPT3.5 tenga 4096 max input tokens, GPT4 tenga 8192-- pero hay más limitas del numero de usas para GPT4\n",
        "\n",
        "todo_ejemplos = '\\n\\n'.join (['Una consulta de ejemplo para el tema de '\n",
        "                              + q[0] + ' es : ' + q[1] for q in q_ejemplos.items()])\n",
        "num_tokens = len(encoding.encode(todo_ejemplos))\n",
        "print (num_tokens)"
      ]
    },
    {
      "cell_type": "code",
      "execution_count": 28,
      "metadata": {
        "id": "_ZxDZOsNiIF-"
      },
      "outputs": [],
      "source": [
        "system_prompt = 'Quiero hacer un algoritmo booleano para consultar Tweets sobre un tema específico. \\n' +  todo_ejemplos\n",
        "\n",
        "def hacer_GPT_prompt (tema):\n",
        "    user_prompt = f'Generas una consulta para el tema de {tema}'\n",
        "    prompt = [{\n",
        "        \"role\": \"system\",\n",
        "        \"content\": system_prompt\n",
        "    }, {\n",
        "        \"role\": \"user\",\n",
        "        \"content\": user_prompt\n",
        "    }]\n",
        "    return prompt\n"
      ]
    },
    {
      "cell_type": "code",
      "execution_count": 35,
      "metadata": {
        "id": "-p8jzS-2ZBdU"
      },
      "outputs": [],
      "source": [
        "import openai\n",
        "tema = 'Mujer Migrante y Violencia Politica Genero en Colombia'\n",
        "result = openai.ChatCompletion.create(\n",
        "            model=GPT_MODELO,\n",
        "            messages= hacer_GPT_prompt (tema),\n",
        "            temperature=0.7\n",
        "        )\n",
        "response = result['choices'][0]['message']['content']"
      ]
    },
    {
      "cell_type": "code",
      "execution_count": 36,
      "metadata": {
        "colab": {
          "base_uri": "https://localhost:8080/",
          "height": 143
        },
        "id": "Fv2MwTarnyoP",
        "outputId": "65cea821-acc2-42b7-e388-d977cedb3f5c"
      },
      "outputs": [
        {
          "data": {
            "application/vnd.google.colaboratory.intrinsic+json": {
              "type": "string"
            },
            "text/plain": [
              "'Para generar una consulta sobre el tema del derecho al aborto en Chile, puedes utilizar términos como:\\n\\n<<<Proceso actual>>>\\n(aborto OR \"interrupción voluntaria del embarazo\" OR IVG OR \"derecho al aborto\" OR \"despenalización del aborto\" OR \"aborto legal\" OR \"aborto terapéutico\" OR \"aborto por violación\" OR \"aborto por peligro de vida\" OR \"aborto por malformación\" OR \"aborto por inviabilidad fetal\" OR \"aborto por razones médicas\" OR \"aborto por salud mental\" OR \"aborto por pobreza\" OR \"aborto por decisión propia\" OR \"aborto seguro\" OR \"aborto clandestino\" OR \"aborto inseguro\" OR \"mujeres y aborto\" OR \"derechos reproductivos\" OR \"autonomía reproductiva\" OR \"salud sexual y reproductiva\" OR \"maternidad elegida\" OR \"embarazo no deseado\" OR \"embarazo no viable\" OR \"embarazo de alto riesgo\" OR \"embarazo por violación\" OR \"embarazo por abuso sexual\" OR \"embarazo por incesto\" OR \"embarazo por malformación fetal\" OR \"embarazo por enfermedad\" OR \"embarazo por peligro para la salud\" OR \"embarazo por pobreza\")\\n\\n<<<Proceso anterior>>>\\n(\"ley de aborto\" OR \"ley de despenalización del aborto\" OR \"ley de interrupción voluntaria del embarazo\" OR \"ley de aborto terapéutico\" OR \"ley de aborto por violación\" OR \"ley de aborto por malformación\" OR \"ley de aborto por inviabilidad fetal\" OR \"ley de aborto por razones médicas\" OR \"ley de aborto por salud mental\" OR \"ley de aborto por pobreza\" OR \"ley de aborto por decisión propia\" OR \"ley de aborto seguro\" OR \"ley de aborto clandestino\" OR \"ley de aborto inseguro\" OR \"ley de derechos reproductivos\" OR \"ley de autonomía reproductiva\" OR \"ley de salud sexual y reproductiva\" OR \"ley de maternidad elegida\" OR \"ley de embarazo no deseado\" OR \"ley de embarazo no viable\" OR \"ley de embarazo de alto riesgo\" OR \"ley de embarazo por violación\" OR \"ley de embarazo por abuso sexual\" OR \"ley de embarazo por incesto\" OR \"ley de embarazo por malformación fetal\" OR \"ley de embarazo por enfermedad\" OR \"ley de embarazo por peligro para la salud\" OR \"ley de embarazo por pobreza\")\\n\\n<<<Hashtags>>>\\n(\"#aborto\" OR \"#derechoalaborto\" OR \"#IVG\" OR \"#despenalizacióndelaborto\" OR \"#abortolegal\" OR \"#abortoterapéutico\" OR \"#abortoporviolación\" OR \"#abortoporpeligrodevida\" OR \"#abortopormalformación\" OR \"#abortoporinviabilidadfetal\" OR \"#abortoporrazonesmédicas\" OR \"#abortoporsaludmental\" OR \"#abortopordecisionpropia\" OR \"#abortoseguro\" OR \"#abortoclandestino\" OR \"#abortoinseguro\" OR \"#mujeresyaborto\" OR \"#derechosreproductivos\" OR \"#autonomíareproductiva\" OR \"#saludsexualyreproductiva\" OR \"#maternidadelegida\" OR \"#embarazonodeseado\" OR \"#embarazonoviable\" OR \"#embarazodealtoriesgo\" OR \"#embarazoporviolación\" OR \"#embarazoporabusosexual\" OR \"#embarazoporincesto\" OR \"#embarazopormalformaciónfetal\" OR \"#embarazoporenfermedad\" OR \"#embarazoporpeligroparalasalud\" OR \"#embarazoporinseguridadeconómica\")'"
            ]
          },
          "execution_count": 36,
          "metadata": {},
          "output_type": "execute_result"
        }
      ],
      "source": [
        "response"
      ]
    },
    {
      "cell_type": "code",
      "execution_count": 39,
      "metadata": {
        "colab": {
          "base_uri": "https://localhost:8080/"
        },
        "id": "UF-lPpLLovr-",
        "outputId": "fccfdc6b-effe-48eb-8f2d-253663966983"
      },
      "outputs": [
        {
          "name": "stdout",
          "output_type": "stream",
          "text": [
            "<<<Proceso actual>>>\n",
            "(aborto OR \"interrupción voluntaria del embarazo\" OR IVG OR \"derecho al aborto\" OR \"despenalización del aborto\" OR \"aborto legal\" OR \"aborto terapéutico\" OR \"aborto por violación\" OR \"aborto por peligro de vida\" OR \"aborto por malformación\" OR \"aborto por inviabilidad fetal\" OR \"aborto por razones médicas\" OR \"aborto por salud mental\" OR \"aborto por pobreza\" OR \"aborto por decisión propia\" OR \"aborto seguro\" OR \"aborto clandestino\" OR \"aborto inseguro\" OR \"mujeres y aborto\" OR \"derechos reproductivos\" OR \"autonomía reproductiva\" OR \"salud sexual y reproductiva\" OR \"maternidad elegida\" OR \"embarazo no deseado\" OR \"embarazo no viable\" OR \"embarazo de alto riesgo\" OR \"embarazo por violación\" OR \"embarazo por abuso sexual\" OR \"embarazo por incesto\" OR \"embarazo por malformación fetal\" OR \"embarazo por enfermedad\" OR \"embarazo por peligro para la salud\" OR \"embarazo por pobreza\")\n",
            "\n",
            "<<<Proceso anterior>>>\n",
            "(\"ley de aborto\" OR \"ley de despenalización del aborto\" OR \"ley de interrupción voluntaria del embarazo\" OR \"ley de aborto terapéutico\" OR \"ley de aborto por violación\" OR \"ley de aborto por malformación\" OR \"ley de aborto por inviabilidad fetal\" OR \"ley de aborto por razones médicas\" OR \"ley de aborto por salud mental\" OR \"ley de aborto por pobreza\" OR \"ley de aborto por decisión propia\" OR \"ley de aborto seguro\" OR \"ley de aborto clandestino\" OR \"ley de aborto inseguro\" OR \"ley de derechos reproductivos\" OR \"ley de autonomía reproductiva\" OR \"ley de salud sexual y reproductiva\" OR \"ley de maternidad elegida\" OR \"ley de embarazo no deseado\" OR \"ley de embarazo no viable\" OR \"ley de embarazo de alto riesgo\" OR \"ley de embarazo por violación\" OR \"ley de embarazo por abuso sexual\" OR \"ley de embarazo por incesto\" OR \"ley de embarazo por malformación fetal\" OR \"ley de embarazo por enfermedad\" OR \"ley de embarazo por peligro para la salud\" OR \"ley de embarazo por pobreza\")\n",
            "\n",
            "<<<Hashtags>>>\n",
            "(\"#aborto\" OR \"#derechoalaborto\" OR \"#IVG\" OR \"#despenalizacióndelaborto\" OR \"#abortolegal\" OR \"#abortoterapéutico\" OR \"#abortoporviolación\" OR \"#abortoporpeligrodevida\" OR \"#abortopormalformación\" OR \"#abortoporinviabilidadfetal\" OR \"#abortoporrazonesmédicas\" OR \"#abortoporsaludmental\" OR \"#abortopordecisionpropia\" OR \"#abortoseguro\" OR \"#abortoclandestino\" OR \"#abortoinseguro\" OR \"#mujeresyaborto\" OR \"#derechosreproductivos\" OR \"#autonomíareproductiva\" OR \"#saludsexualyreproductiva\" OR \"#maternidadelegida\" OR \"#embarazonodeseado\" OR \"#embarazonoviable\" OR \"#embarazodealtoriesgo\" OR \"#embarazoporviolación\" OR \"#embarazoporabusosexual\" OR \"#embarazoporincesto\" OR \"#embarazopormalformaciónfetal\" OR \"#embarazoporenfermedad\" OR \"#embarazoporpeligroparalasalud\" OR \"#embarazoporinseguridadeconómica\")\n"
          ]
        }
      ],
      "source": [
        "primer_comentario_idx = response.index ('<<<')\n",
        "primer_booleana_idx = response.index ('(')\n",
        "# Si hay un error aquí, es un problema de GPT\n",
        "consulta_inicio_idx = min (primer_comentario_idx, primer_booleana_idx)\n",
        "\n",
        "consulta = response[consulta_inicio_idx:]\n",
        "print (consulta)"
      ]
    },
    {
      "cell_type": "code",
      "execution_count": null,
      "metadata": {
        "id": "XG5dsjNppwbN"
      },
      "outputs": [],
      "source": []
    }
  ],
  "metadata": {
    "colab": {
      "provenance": []
    },
    "kernelspec": {
      "display_name": "Python 3",
      "name": "python3"
    },
    "language_info": {
      "name": "python"
    }
  },
  "nbformat": 4,
  "nbformat_minor": 0
}
